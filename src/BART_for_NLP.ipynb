{
  "nbformat": 4,
  "nbformat_minor": 0,
  "metadata": {
    "colab": {
      "provenance": []
    },
    "kernelspec": {
      "name": "python3",
      "display_name": "Python 3"
    },
    "language_info": {
      "name": "python"
    }
  },
  "cells": [
    {
      "cell_type": "code",
      "execution_count": 2,
      "metadata": {
        "colab": {
          "base_uri": "https://localhost:8080/"
        },
        "id": "7xljv_PM-Sr5",
        "outputId": "598d962b-4e54-4843-80af-d6a969772d33"
      },
      "outputs": [
        {
          "output_type": "stream",
          "name": "stdout",
          "text": [
            "Summary:\n",
            "BART is a model developed by Facebook AI for various natural language processing (NLP) tasks. It combines bidirectional and auto-regressive transformers to achieve state-of-the-art performance on multiple tasks.\n"
          ]
        }
      ],
      "source": [
        "#Text Summarization using BART\n",
        "from transformers import BartTokenizer, BartForConditionalGeneration\n",
        "\n",
        "# Load pre-trained BART model and tokenizer\n",
        "tokenizer = BartTokenizer.from_pretrained('facebook/bart-large-cnn')\n",
        "model = BartForConditionalGeneration.from_pretrained('facebook/bart-large-cnn')\n",
        "\n",
        "def summarize_text(text):\n",
        "    inputs = tokenizer.encode(\"summarize: \" + text, return_tensors='pt', max_length=1024, truncation=True)\n",
        "    summary_ids = model.generate(inputs, max_length=150, min_length=40, length_penalty=2.0, num_beams=4, early_stopping=True)\n",
        "    summary = tokenizer.decode(summary_ids[0], skip_special_tokens=True)\n",
        "    return summary\n",
        "\n",
        "# Example usage\n",
        "text = \"\"\"\n",
        "BART is a model developed by Facebook AI for various natural language processing (NLP) tasks. It combines bidirectional and auto-regressive transformers to achieve state-of-the-art performance on multiple tasks including summarization, translation, and text generation. The model was designed to handle the challenges of both text generation and understanding.\n",
        "\"\"\"\n",
        "print(\"Summary:\")\n",
        "print(summarize_text(text))\n"
      ]
    },
    {
      "cell_type": "code",
      "source": [
        "from transformers import BartTokenizer, BartForConditionalGeneration\n",
        "\n",
        "# Load pre-trained BART model and tokenizer for question answering\n",
        "tokenizer = BartTokenizer.from_pretrained('facebook/bart-large')\n",
        "model = BartForConditionalGeneration.from_pretrained('facebook/bart-large')\n",
        "\n",
        "def answer_question(question, context):\n",
        "    input_text = f\"{question} {context}\"\n",
        "    inputs = tokenizer.encode(input_text, return_tensors='pt')\n",
        "    outputs = model.generate(inputs, max_length=150, num_beams=5, early_stopping=True)\n",
        "    answer = tokenizer.decode(outputs[0], skip_special_tokens=True)\n",
        "    return answer\n",
        "# Define context\n",
        "context = \"\"\"\n",
        "Elon Musk is the CEO of SpaceX, an American aerospace manufacturer and space transport services company headquartered in Hawthorne, California.\n",
        "He founded SpaceX in 2002 with the goal of reducing space transportation costs to enable the colonization of Mars.\n",
        "\"\"\"\n",
        "# Example question\n",
        "question = \"NAME of the CEO of SpaceX?\"\n",
        "\n",
        "# Answer the question\n",
        "answer = answer_question(question, context)\n",
        "print(\"Question:\", question)\n",
        "print(\"Answer:\", answer)\n"
      ],
      "metadata": {
        "colab": {
          "base_uri": "https://localhost:8080/"
        },
        "id": "CiMx9cXc_leO",
        "outputId": "659cb0b1-f30d-4634-80f8-9f93625a96c8"
      },
      "execution_count": 12,
      "outputs": [
        {
          "output_type": "stream",
          "name": "stdout",
          "text": [
            "Question: NAME of the CEO of SpaceX?\n",
            "Answer: NAME of the CEO of SpaceX? Elon Musk is an American aerospace manufacturer and space transport services company headquartered in Hawthorne, California.He founded SpaceX in 2002 with the goal of reducing space transportation costs to enable the colonization of Mars. \n"
          ]
        }
      ]
    },
    {
      "cell_type": "code",
      "source": [],
      "metadata": {
        "id": "aAC_0EwLBoTX"
      },
      "execution_count": null,
      "outputs": []
    }
  ]
}